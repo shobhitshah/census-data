{
 "cells": [
  {
   "cell_type": "markdown",
   "metadata": {},
   "source": [
    "# Machine Learning analysis for the census income data set at UCI\n",
    "http://archive.ics.uci.edu/ml/datasets/Adult"
   ]
  },
  {
   "cell_type": "markdown",
   "metadata": {},
   "source": [
    "## Setup"
   ]
  },
  {
   "cell_type": "code",
   "execution_count": 1,
   "metadata": {},
   "outputs": [],
   "source": [
    "import pandas as pd\n",
    "import seaborn as sns\n",
    "import numpy as np"
   ]
  },
  {
   "cell_type": "code",
   "execution_count": 2,
   "metadata": {},
   "outputs": [],
   "source": [
    "train=pd.read_csv(\"http://archive.ics.uci.edu/ml/machine-learning-databases/adult/adult.data\")"
   ]
  },
  {
   "cell_type": "code",
   "execution_count": 3,
   "metadata": {},
   "outputs": [
    {
     "data": {
      "text/html": [
       "<div>\n",
       "<style scoped>\n",
       "    .dataframe tbody tr th:only-of-type {\n",
       "        vertical-align: middle;\n",
       "    }\n",
       "\n",
       "    .dataframe tbody tr th {\n",
       "        vertical-align: top;\n",
       "    }\n",
       "\n",
       "    .dataframe thead th {\n",
       "        text-align: right;\n",
       "    }\n",
       "</style>\n",
       "<table border=\"1\" class=\"dataframe\">\n",
       "  <thead>\n",
       "    <tr style=\"text-align: right;\">\n",
       "      <th></th>\n",
       "      <th>age</th>\n",
       "      <th>fnlwgt</th>\n",
       "      <th>education_num</th>\n",
       "      <th>capital_gain</th>\n",
       "      <th>capital_loss</th>\n",
       "      <th>hours_pw</th>\n",
       "    </tr>\n",
       "  </thead>\n",
       "  <tbody>\n",
       "    <tr>\n",
       "      <th>count</th>\n",
       "      <td>32560.000000</td>\n",
       "      <td>3.256000e+04</td>\n",
       "      <td>32560.000000</td>\n",
       "      <td>32560.000000</td>\n",
       "      <td>32560.000000</td>\n",
       "      <td>32560.000000</td>\n",
       "    </tr>\n",
       "    <tr>\n",
       "      <th>mean</th>\n",
       "      <td>38.581634</td>\n",
       "      <td>1.897818e+05</td>\n",
       "      <td>10.080590</td>\n",
       "      <td>1077.615172</td>\n",
       "      <td>87.306511</td>\n",
       "      <td>40.437469</td>\n",
       "    </tr>\n",
       "    <tr>\n",
       "      <th>std</th>\n",
       "      <td>13.640642</td>\n",
       "      <td>1.055498e+05</td>\n",
       "      <td>2.572709</td>\n",
       "      <td>7385.402999</td>\n",
       "      <td>402.966116</td>\n",
       "      <td>12.347618</td>\n",
       "    </tr>\n",
       "    <tr>\n",
       "      <th>min</th>\n",
       "      <td>17.000000</td>\n",
       "      <td>1.228500e+04</td>\n",
       "      <td>1.000000</td>\n",
       "      <td>0.000000</td>\n",
       "      <td>0.000000</td>\n",
       "      <td>1.000000</td>\n",
       "    </tr>\n",
       "    <tr>\n",
       "      <th>25%</th>\n",
       "      <td>28.000000</td>\n",
       "      <td>1.178315e+05</td>\n",
       "      <td>9.000000</td>\n",
       "      <td>0.000000</td>\n",
       "      <td>0.000000</td>\n",
       "      <td>40.000000</td>\n",
       "    </tr>\n",
       "    <tr>\n",
       "      <th>50%</th>\n",
       "      <td>37.000000</td>\n",
       "      <td>1.783630e+05</td>\n",
       "      <td>10.000000</td>\n",
       "      <td>0.000000</td>\n",
       "      <td>0.000000</td>\n",
       "      <td>40.000000</td>\n",
       "    </tr>\n",
       "    <tr>\n",
       "      <th>75%</th>\n",
       "      <td>48.000000</td>\n",
       "      <td>2.370545e+05</td>\n",
       "      <td>12.000000</td>\n",
       "      <td>0.000000</td>\n",
       "      <td>0.000000</td>\n",
       "      <td>45.000000</td>\n",
       "    </tr>\n",
       "    <tr>\n",
       "      <th>max</th>\n",
       "      <td>90.000000</td>\n",
       "      <td>1.484705e+06</td>\n",
       "      <td>16.000000</td>\n",
       "      <td>99999.000000</td>\n",
       "      <td>4356.000000</td>\n",
       "      <td>99.000000</td>\n",
       "    </tr>\n",
       "  </tbody>\n",
       "</table>\n",
       "</div>"
      ],
      "text/plain": [
       "                age        fnlwgt  education_num  capital_gain  capital_loss  \\\n",
       "count  32560.000000  3.256000e+04   32560.000000  32560.000000  32560.000000   \n",
       "mean      38.581634  1.897818e+05      10.080590   1077.615172     87.306511   \n",
       "std       13.640642  1.055498e+05       2.572709   7385.402999    402.966116   \n",
       "min       17.000000  1.228500e+04       1.000000      0.000000      0.000000   \n",
       "25%       28.000000  1.178315e+05       9.000000      0.000000      0.000000   \n",
       "50%       37.000000  1.783630e+05      10.000000      0.000000      0.000000   \n",
       "75%       48.000000  2.370545e+05      12.000000      0.000000      0.000000   \n",
       "max       90.000000  1.484705e+06      16.000000  99999.000000   4356.000000   \n",
       "\n",
       "           hours_pw  \n",
       "count  32560.000000  \n",
       "mean      40.437469  \n",
       "std       12.347618  \n",
       "min        1.000000  \n",
       "25%       40.000000  \n",
       "50%       40.000000  \n",
       "75%       45.000000  \n",
       "max       99.000000  "
      ]
     },
     "execution_count": 3,
     "metadata": {},
     "output_type": "execute_result"
    }
   ],
   "source": [
    "train.columns = ['age', 'workclass', 'fnlwgt', 'education', 'education_num', 'marital_status', \n",
    "               'occupation', 'relationship', 'race', 'sex', 'capital_gain', 'capital_loss',\n",
    "              'hours_pw', 'native_country', 'income']\n",
    "train.describe()"
   ]
  },
  {
   "cell_type": "markdown",
   "metadata": {},
   "source": [
    "## Data cleaning"
   ]
  },
  {
   "cell_type": "code",
   "execution_count": 4,
   "metadata": {},
   "outputs": [],
   "source": [
    "train['workclass'] = train.workclass.str.strip()\n",
    "train['income'] = train.income.str.strip()\n",
    "train['marital_status'] = train.marital_status.str.strip()\n",
    "train['race'] = train.race.str.strip()\n",
    "train['sex'] = train.sex.str.strip()\n",
    "train['relationship'] = train.relationship.str.strip()"
   ]
  },
  {
   "cell_type": "markdown",
   "metadata": {},
   "source": [
    "## Feature Engineering"
   ]
  },
  {
   "cell_type": "code",
   "execution_count": 5,
   "metadata": {},
   "outputs": [],
   "source": [
    "# create numerical columns representing the categorical data\n",
    "# workclass: Private, Self-emp-not-inc, Self-emp-inc, Federal-gov, Local-gov, State-gov, Without-pay\n",
    "# , Never-worked. \n",
    "train['workclass_num'] = train.workclass.map({'?':0, 'Private':8, 'State-gov':1, 'Federal-gov':2\n",
    "                                            , 'Self-emp-not-inc':3, 'Self-emp-inc':4, 'Local-gov':5\n",
    "                                            , 'Without-pay':6, 'Never-worked':7})\n",
    "train['over50K'] = np.where(train.income == '<=50K', False, True)\n",
    "# marital-status: Married-civ-spouse, Divorced, Never-married, Separated, Widowed, Married-spouse-absent\n",
    "# , Married-AF-spouse. \n",
    "train['marital_num'] = train['marital_status'].map({'?':0, 'Widowed':7, 'Divorced':1, 'Separated':2\n",
    "                                                  , 'Never-married':3, 'Married-civ-spouse':4\n",
    "                                                  , 'Married-AF-spouse':4, 'Married-spouse-absent':5\n",
    "                                                   , 'Separated':6})\n",
    "# race: White, Asian-Pac-Islander, Amer-Indian-Eskimo, Other, Black. \n",
    "train['race_num'] = train.race.map({'?':0, 'White':5, 'Black':1, 'Asian-Pac-Islander':2\n",
    "                                    , 'Amer-Indian-Eskimo':3, 'Other':4})\n",
    "train['sex_num'] = np.where(train.sex == 'Female', 0, 1)\n",
    "# relationship: Wife, Own-child, Husband, Not-in-family, Other-relative, Unmarried. \n",
    "train['rel_num'] = train.relationship.map({'?':0, 'Not-in-family':2, 'Unmarried':2, 'Own-child':2\n",
    "                                         , 'Other-relative':0, 'Husband':1, 'Wife':1})"
   ]
  },
  {
   "cell_type": "code",
   "execution_count": 6,
   "metadata": {},
   "outputs": [
    {
     "data": {
      "text/plain": [
       "<=50K    24719\n",
       ">50K      7841\n",
       "Name: income, dtype: int64"
      ]
     },
     "execution_count": 6,
     "metadata": {},
     "output_type": "execute_result"
    }
   ],
   "source": [
    "train.income.value_counts()"
   ]
  },
  {
   "cell_type": "code",
   "execution_count": 7,
   "metadata": {},
   "outputs": [
    {
     "data": {
      "text/plain": [
       "False    24719\n",
       "True      7841\n",
       "Name: over50K, dtype: int64"
      ]
     },
     "execution_count": 7,
     "metadata": {},
     "output_type": "execute_result"
    }
   ],
   "source": [
    "train.over50K.value_counts()"
   ]
  },
  {
   "cell_type": "code",
   "execution_count": 8,
   "metadata": {},
   "outputs": [
    {
     "data": {
      "text/html": [
       "<div>\n",
       "<style scoped>\n",
       "    .dataframe tbody tr th:only-of-type {\n",
       "        vertical-align: middle;\n",
       "    }\n",
       "\n",
       "    .dataframe tbody tr th {\n",
       "        vertical-align: top;\n",
       "    }\n",
       "\n",
       "    .dataframe thead th {\n",
       "        text-align: right;\n",
       "    }\n",
       "</style>\n",
       "<table border=\"1\" class=\"dataframe\">\n",
       "  <thead>\n",
       "    <tr style=\"text-align: right;\">\n",
       "      <th></th>\n",
       "      <th>age</th>\n",
       "      <th>fnlwgt</th>\n",
       "      <th>education_num</th>\n",
       "      <th>capital_gain</th>\n",
       "      <th>capital_loss</th>\n",
       "      <th>hours_pw</th>\n",
       "      <th>workclass_num</th>\n",
       "      <th>over50K</th>\n",
       "      <th>marital_num</th>\n",
       "      <th>race_num</th>\n",
       "      <th>sex_num</th>\n",
       "      <th>rel_num</th>\n",
       "    </tr>\n",
       "  </thead>\n",
       "  <tbody>\n",
       "    <tr>\n",
       "      <th>age</th>\n",
       "      <td>1.000000</td>\n",
       "      <td>-0.076646</td>\n",
       "      <td>0.036527</td>\n",
       "      <td>0.077674</td>\n",
       "      <td>0.057775</td>\n",
       "      <td>0.068756</td>\n",
       "      <td>-0.169729</td>\n",
       "      <td>0.234039</td>\n",
       "      <td>0.202199</td>\n",
       "      <td>0.026663</td>\n",
       "      <td>0.088832</td>\n",
       "      <td>-0.244410</td>\n",
       "    </tr>\n",
       "    <tr>\n",
       "      <th>fnlwgt</th>\n",
       "      <td>-0.076646</td>\n",
       "      <td>1.000000</td>\n",
       "      <td>-0.043159</td>\n",
       "      <td>0.000437</td>\n",
       "      <td>-0.010259</td>\n",
       "      <td>-0.018770</td>\n",
       "      <td>0.037738</td>\n",
       "      <td>-0.009481</td>\n",
       "      <td>-0.004061</td>\n",
       "      <td>-0.078802</td>\n",
       "      <td>0.026882</td>\n",
       "      <td>0.009498</td>\n",
       "    </tr>\n",
       "    <tr>\n",
       "      <th>education_num</th>\n",
       "      <td>0.036527</td>\n",
       "      <td>-0.043159</td>\n",
       "      <td>1.000000</td>\n",
       "      <td>0.122627</td>\n",
       "      <td>0.079932</td>\n",
       "      <td>0.148127</td>\n",
       "      <td>-0.078247</td>\n",
       "      <td>0.335182</td>\n",
       "      <td>-0.027389</td>\n",
       "      <td>0.051700</td>\n",
       "      <td>0.012256</td>\n",
       "      <td>-0.027984</td>\n",
       "    </tr>\n",
       "    <tr>\n",
       "      <th>capital_gain</th>\n",
       "      <td>0.077674</td>\n",
       "      <td>0.000437</td>\n",
       "      <td>0.122627</td>\n",
       "      <td>1.000000</td>\n",
       "      <td>-0.031614</td>\n",
       "      <td>0.078409</td>\n",
       "      <td>-0.022263</td>\n",
       "      <td>0.223333</td>\n",
       "      <td>0.030314</td>\n",
       "      <td>0.016099</td>\n",
       "      <td>0.048477</td>\n",
       "      <td>-0.065813</td>\n",
       "    </tr>\n",
       "    <tr>\n",
       "      <th>capital_loss</th>\n",
       "      <td>0.057775</td>\n",
       "      <td>-0.010259</td>\n",
       "      <td>0.079932</td>\n",
       "      <td>-0.031614</td>\n",
       "      <td>1.000000</td>\n",
       "      <td>0.054256</td>\n",
       "      <td>-0.015258</td>\n",
       "      <td>0.150523</td>\n",
       "      <td>0.034538</td>\n",
       "      <td>0.020751</td>\n",
       "      <td>0.045572</td>\n",
       "      <td>-0.063479</td>\n",
       "    </tr>\n",
       "    <tr>\n",
       "      <th>hours_pw</th>\n",
       "      <td>0.068756</td>\n",
       "      <td>-0.018770</td>\n",
       "      <td>0.148127</td>\n",
       "      <td>0.078409</td>\n",
       "      <td>0.054256</td>\n",
       "      <td>1.000000</td>\n",
       "      <td>0.038689</td>\n",
       "      <td>0.229690</td>\n",
       "      <td>0.003319</td>\n",
       "      <td>0.052206</td>\n",
       "      <td>0.229312</td>\n",
       "      <td>-0.161909</td>\n",
       "    </tr>\n",
       "    <tr>\n",
       "      <th>workclass_num</th>\n",
       "      <td>-0.169729</td>\n",
       "      <td>0.037738</td>\n",
       "      <td>-0.078247</td>\n",
       "      <td>-0.022263</td>\n",
       "      <td>-0.015258</td>\n",
       "      <td>0.038689</td>\n",
       "      <td>1.000000</td>\n",
       "      <td>-0.038364</td>\n",
       "      <td>-0.050884</td>\n",
       "      <td>0.012609</td>\n",
       "      <td>-0.011282</td>\n",
       "      <td>0.035783</td>\n",
       "    </tr>\n",
       "    <tr>\n",
       "      <th>over50K</th>\n",
       "      <td>0.234039</td>\n",
       "      <td>-0.009481</td>\n",
       "      <td>0.335182</td>\n",
       "      <td>0.223333</td>\n",
       "      <td>0.150523</td>\n",
       "      <td>0.229690</td>\n",
       "      <td>-0.038364</td>\n",
       "      <td>1.000000</td>\n",
       "      <td>0.168690</td>\n",
       "      <td>0.084973</td>\n",
       "      <td>0.215995</td>\n",
       "      <td>-0.349548</td>\n",
       "    </tr>\n",
       "    <tr>\n",
       "      <th>marital_num</th>\n",
       "      <td>0.202199</td>\n",
       "      <td>-0.004061</td>\n",
       "      <td>-0.027389</td>\n",
       "      <td>0.030314</td>\n",
       "      <td>0.034538</td>\n",
       "      <td>0.003319</td>\n",
       "      <td>-0.050884</td>\n",
       "      <td>0.168690</td>\n",
       "      <td>1.000000</td>\n",
       "      <td>-0.004148</td>\n",
       "      <td>0.137440</td>\n",
       "      <td>-0.353754</td>\n",
       "    </tr>\n",
       "    <tr>\n",
       "      <th>race_num</th>\n",
       "      <td>0.026663</td>\n",
       "      <td>-0.078802</td>\n",
       "      <td>0.051700</td>\n",
       "      <td>0.016099</td>\n",
       "      <td>0.020751</td>\n",
       "      <td>0.052206</td>\n",
       "      <td>0.012609</td>\n",
       "      <td>0.084973</td>\n",
       "      <td>-0.004148</td>\n",
       "      <td>1.000000</td>\n",
       "      <td>0.110271</td>\n",
       "      <td>-0.065798</td>\n",
       "    </tr>\n",
       "    <tr>\n",
       "      <th>sex_num</th>\n",
       "      <td>0.088832</td>\n",
       "      <td>0.026882</td>\n",
       "      <td>0.012256</td>\n",
       "      <td>0.048477</td>\n",
       "      <td>0.045572</td>\n",
       "      <td>0.229312</td>\n",
       "      <td>-0.011282</td>\n",
       "      <td>0.215995</td>\n",
       "      <td>0.137440</td>\n",
       "      <td>0.110271</td>\n",
       "      <td>1.000000</td>\n",
       "      <td>-0.363990</td>\n",
       "    </tr>\n",
       "    <tr>\n",
       "      <th>rel_num</th>\n",
       "      <td>-0.244410</td>\n",
       "      <td>0.009498</td>\n",
       "      <td>-0.027984</td>\n",
       "      <td>-0.065813</td>\n",
       "      <td>-0.063479</td>\n",
       "      <td>-0.161909</td>\n",
       "      <td>0.035783</td>\n",
       "      <td>-0.349548</td>\n",
       "      <td>-0.353754</td>\n",
       "      <td>-0.065798</td>\n",
       "      <td>-0.363990</td>\n",
       "      <td>1.000000</td>\n",
       "    </tr>\n",
       "  </tbody>\n",
       "</table>\n",
       "</div>"
      ],
      "text/plain": [
       "                    age    fnlwgt  education_num  capital_gain  capital_loss  \\\n",
       "age            1.000000 -0.076646       0.036527      0.077674      0.057775   \n",
       "fnlwgt        -0.076646  1.000000      -0.043159      0.000437     -0.010259   \n",
       "education_num  0.036527 -0.043159       1.000000      0.122627      0.079932   \n",
       "capital_gain   0.077674  0.000437       0.122627      1.000000     -0.031614   \n",
       "capital_loss   0.057775 -0.010259       0.079932     -0.031614      1.000000   \n",
       "hours_pw       0.068756 -0.018770       0.148127      0.078409      0.054256   \n",
       "workclass_num -0.169729  0.037738      -0.078247     -0.022263     -0.015258   \n",
       "over50K        0.234039 -0.009481       0.335182      0.223333      0.150523   \n",
       "marital_num    0.202199 -0.004061      -0.027389      0.030314      0.034538   \n",
       "race_num       0.026663 -0.078802       0.051700      0.016099      0.020751   \n",
       "sex_num        0.088832  0.026882       0.012256      0.048477      0.045572   \n",
       "rel_num       -0.244410  0.009498      -0.027984     -0.065813     -0.063479   \n",
       "\n",
       "               hours_pw  workclass_num   over50K  marital_num  race_num  \\\n",
       "age            0.068756      -0.169729  0.234039     0.202199  0.026663   \n",
       "fnlwgt        -0.018770       0.037738 -0.009481    -0.004061 -0.078802   \n",
       "education_num  0.148127      -0.078247  0.335182    -0.027389  0.051700   \n",
       "capital_gain   0.078409      -0.022263  0.223333     0.030314  0.016099   \n",
       "capital_loss   0.054256      -0.015258  0.150523     0.034538  0.020751   \n",
       "hours_pw       1.000000       0.038689  0.229690     0.003319  0.052206   \n",
       "workclass_num  0.038689       1.000000 -0.038364    -0.050884  0.012609   \n",
       "over50K        0.229690      -0.038364  1.000000     0.168690  0.084973   \n",
       "marital_num    0.003319      -0.050884  0.168690     1.000000 -0.004148   \n",
       "race_num       0.052206       0.012609  0.084973    -0.004148  1.000000   \n",
       "sex_num        0.229312      -0.011282  0.215995     0.137440  0.110271   \n",
       "rel_num       -0.161909       0.035783 -0.349548    -0.353754 -0.065798   \n",
       "\n",
       "                sex_num   rel_num  \n",
       "age            0.088832 -0.244410  \n",
       "fnlwgt         0.026882  0.009498  \n",
       "education_num  0.012256 -0.027984  \n",
       "capital_gain   0.048477 -0.065813  \n",
       "capital_loss   0.045572 -0.063479  \n",
       "hours_pw       0.229312 -0.161909  \n",
       "workclass_num -0.011282  0.035783  \n",
       "over50K        0.215995 -0.349548  \n",
       "marital_num    0.137440 -0.353754  \n",
       "race_num       0.110271 -0.065798  \n",
       "sex_num        1.000000 -0.363990  \n",
       "rel_num       -0.363990  1.000000  "
      ]
     },
     "execution_count": 8,
     "metadata": {},
     "output_type": "execute_result"
    }
   ],
   "source": [
    "train.corr()"
   ]
  },
  {
   "cell_type": "markdown",
   "metadata": {},
   "source": [
    "## Modelling "
   ]
  },
  {
   "cell_type": "code",
   "execution_count": 105,
   "metadata": {},
   "outputs": [],
   "source": [
    "from sklearn.linear_model import LogisticRegression\n",
    "from sklearn.model_selection import KFold\n",
    "from sklearn.model_selection import cross_val_score\n",
    "from sklearn.model_selection import cross_val_predict\n",
    "from matplotlib import pyplot as plt\n",
    "from sklearn.ensemble import RandomForestClassifier\n",
    "from sklearn import svm\n",
    "from sklearn import tree\n",
    "from sklearn.discriminant_analysis import LinearDiscriminantAnalysis\n",
    "from sklearn.neighbors import KNeighborsClassifier\n",
    "from sklearn.naive_bayes import GaussianNB"
   ]
  },
  {
   "cell_type": "code",
   "execution_count": 106,
   "metadata": {},
   "outputs": [],
   "source": [
    "X = train[['workclass_num', 'education_num', 'marital_num', 'race_num', 'sex_num', 'rel_num'\n",
    "          , 'age', 'hours_pw']]\n",
    "y = train.over50K"
   ]
  },
  {
   "cell_type": "code",
   "execution_count": 157,
   "metadata": {},
   "outputs": [],
   "source": [
    "models = []\n",
    "models.append(('LR', LogisticRegression(solver='liblinear')))\n",
    "models.append(('LDA', LinearDiscriminantAnalysis()))\n",
    "models.append(('KNN', KNeighborsClassifier()))\n",
    "models.append(('DTC', tree.DecisionTreeClassifier()))\n",
    "models.append(('NB', GaussianNB()))\n",
    "models.append(('RF', RandomForestClassifier(max_depth = 10, min_samples_split=2, n_estimators = 100, random_state = 1)))\n",
    "models.append(('SVM', svm.SVC(gamma='scale')))"
   ]
  },
  {
   "cell_type": "code",
   "execution_count": null,
   "metadata": {},
   "outputs": [],
   "source": [
    "nfolds=10\n",
    "i=0\n",
    "results = []\n",
    "for name, model in models:\n",
    "    kf = KFold(n_splits=nfolds, random_state=17)\n",
    "    score = cross_val_score(model, X, y, cv=nfolds, scoring='accuracy')\n",
    "    results.append((name, score))\n",
    "    if score.mean() > i:\n",
    "        imodel=model\n",
    "        i=score.mean()\n",
    "#    print(name, score.mean(), score.std())\n",
    "print(\"Done\")"
   ]
  },
  {
   "cell_type": "markdown",
   "metadata": {},
   "source": [
    "## Results"
   ]
  },
  {
   "cell_type": "code",
   "execution_count": 159,
   "metadata": {},
   "outputs": [],
   "source": [
    "results=np.array(results)"
   ]
  },
  {
   "cell_type": "code",
   "execution_count": 160,
   "metadata": {},
   "outputs": [
    {
     "data": {
      "image/png": "[encoded data removed]",
      "text/plain": [
       "<Figure size 432x288 with 1 Axes>"
      ]
     },
     "metadata": {
      "needs_background": "light"
     },
     "output_type": "display_data"
    }
   ],
   "source": [
    "fig, ax = plt.subplots()\n",
    "ax.boxplot(results[:,1])\n",
    "ax.set_xticklabels(results[:,0])\n",
    "ax.set_title('Algorithm comparision')\n",
    "plt.show()"
   ]
  },
  {
   "cell_type": "code",
   "execution_count": 163,
   "metadata": {},
   "outputs": [
    {
     "name": "stdout",
     "output_type": "stream",
     "text": [
      "Best performing model RandomForestClassifier(bootstrap=True, class_weight=None, criterion='gini',\n",
      "            max_depth=10, max_features='auto', max_leaf_nodes=None,\n",
      "            min_impurity_decrease=0.0, min_impurity_split=None,\n",
      "            min_samples_leaf=1, min_samples_split=2,\n",
      "            min_weight_fraction_leaf=0.0, n_estimators=100, n_jobs=None,\n",
      "            oob_score=False, random_state=1, verbose=0, warm_start=False)\n"
     ]
    },
    {
     "data": {
      "image/png": "[encoded data removed]",
      "text/plain": [
       "<Figure size 432x288 with 1 Axes>"
      ]
     },
     "metadata": {
      "needs_background": "light"
     },
     "output_type": "display_data"
    }
   ],
   "source": [
    "rf = np.array(models)[5:,1]\n",
    "fi = imodel.fit(X, y).feature_importances_\n",
    "pos = np.arange(len(X.columns))\n",
    "print(\"Best performing model\", imodel)\n",
    "plt.barh(pos, fi)\n",
    "plt.title(\"Feature Importance\")\n",
    "plt.xlabel(\"Model Accuracy\")\n",
    "plt.ylabel(\"Features\")\n",
    "plt.yticks(pos, (list(X)))\n",
    "plt.show()"
   ]
  },
  {
   "cell_type": "code",
   "execution_count": null,
   "metadata": {},
   "outputs": [],
   "source": []
  }
 ],
 "metadata": {
  "kernelspec": {
   "display_name": "Python 3",
   "language": "python",
   "name": "python3"
  },
  "language_info": {
   "codemirror_mode": {
    "name": "ipython",
    "version": 3
   },
   "file_extension": ".py",
   "mimetype": "text/x-python",
   "name": "python",
   "nbconvert_exporter": "python",
   "pygments_lexer": "ipython3",
   "version": "3.7.2"
  }
 },
 "nbformat": 4,
 "nbformat_minor": 2
}
